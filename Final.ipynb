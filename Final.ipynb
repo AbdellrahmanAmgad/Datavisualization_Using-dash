{
 "cells": [
  {
   "cell_type": "markdown",
   "id": "3cb1d7cc",
   "metadata": {},
   "source": [
    "# Importing Libraries"
   ]
  },
  {
   "cell_type": "code",
   "execution_count": 1,
   "id": "5f8715d9",
   "metadata": {},
   "outputs": [],
   "source": [
    "import pandas as pd\n",
    "import numpy as np\n",
    "import plotly.express as px\n",
    "import plotly.io as pio\n",
    "from dash import Dash,html,dcc\n",
    "from dash.dependencies import Input,Output\n",
    "import plotly.subplots as sp\n",
    "from plotly.subplots import make_subplots\n",
    "import plotly.tools as tls\n",
    "import dash_bootstrap_components as dbc"
   ]
  },
  {
   "cell_type": "markdown",
   "id": "70f21af5",
   "metadata": {},
   "source": [
    "# Importing DataSet"
   ]
  },
  {
   "cell_type": "code",
   "execution_count": 2,
   "id": "46a449a7",
   "metadata": {},
   "outputs": [],
   "source": [
    "df=pd.read_csv(\"C:/Users/Abdellrahman Amgad/Desktop/Visualizaation/lastttttt.csv\")\n",
    "#more than 16500 games to analyze\n",
    "#updated till 2020"
   ]
  },
  {
   "cell_type": "markdown",
   "id": "4f67162c",
   "metadata": {},
   "source": [
    "# Add External_stylesheets"
   ]
  },
  {
   "cell_type": "code",
   "execution_count": 3,
   "id": "3c5ea045",
   "metadata": {},
   "outputs": [],
   "source": [
    "app=Dash(external_stylesheets=[dbc.themes.SANDSTONE])\n",
    "app.title='Video Games Analytics'"
   ]
  },
  {
   "cell_type": "markdown",
   "id": "a95c3055",
   "metadata": {},
   "source": [
    "# Process The Data"
   ]
  },
  {
   "cell_type": "code",
   "execution_count": 4,
   "id": "a159a770",
   "metadata": {
    "scrolled": true
   },
   "outputs": [
    {
     "data": {
      "text/plain": [
       "2009.0"
      ]
     },
     "execution_count": 4,
     "metadata": {},
     "output_type": "execute_result"
    }
   ],
   "source": [
    "df2=df.Genre.value_counts().reset_index()\n",
    "df3=df.Year.value_counts().reset_index()\n",
    "df4=df.Platform.value_counts().reset_index()\n",
    "df5=df.groupby('Publisher')['Name'].count().reset_index()\n",
    "df5=df5.sort_values('Name',ascending=False).reset_index()\n",
    "df5.drop(\"index\",axis = 1,inplace=True)\n",
    "df6=df5[0:20]\n",
    "df7=df.groupby('Genre')['Global_Sales'].sum().reset_index().sort_values(\"Global_Sales\",ascending=False)\n",
    "df8=df.groupby('Year')['Global_Sales'].sum().reset_index()\n",
    "df9=df.groupby('Platform')['Global_Sales'].sum().reset_index().sort_values(\"Global_Sales\",ascending=False)\n",
    "df10=df.groupby('Publisher')['Global_Sales'].sum().reset_index().sort_values(\"Global_Sales\",ascending=False)\n",
    "df11=df10[0:30]\n",
    "df12=df.groupby('Year')['Name'].count().reset_index().sort_values(\"Name\",ascending=False)\n",
    "df13=df.groupby('Year')['NA_Sales'].sum().reset_index().sort_values(\"Year\",ascending=True)\n",
    "df14=df.groupby('Year')['EU_Sales'].sum().reset_index().sort_values(\"Year\",ascending=True)\n",
    "df15=df.groupby('Year')['JP_Sales'].sum().reset_index().sort_values(\"Year\",ascending=True)\n",
    "df16=df.groupby('Year')['Other_Sales'].sum().reset_index().sort_values(\"Year\",ascending=True)\n",
    "df3[\"index\"][0]"
   ]
  },
  {
   "cell_type": "markdown",
   "id": "f15afdb8",
   "metadata": {},
   "source": [
    "# Cards body"
   ]
  },
  {
   "cell_type": "code",
   "execution_count": 5,
   "id": "a20334f3",
   "metadata": {},
   "outputs": [],
   "source": [
    "card_content1 = [dbc.CardBody([\n",
    "            html.H1(\"Highest Sales Category \", className=\"genre\"),\n",
    "            html.Hr(),\n",
    "            html.H2(df7['Genre'][0]+\": \"+str(df7['Global_Sales'][0])+\" M$\",className=\"genre_card\"\n",
    "                   )])]\n",
    "\n",
    "card_content2 = [dbc.CardBody([\n",
    "            html.H1(\"Highest Publisher \", className=\"Publisher\"),\n",
    "            html.Hr(),\n",
    "            html.H2(df10['Publisher'][359]+\": \"+str(df10['Global_Sales'][359])+\" M$\",className=\"Publisher_card\"\n",
    "                   )])]\n",
    "\n",
    "card_content3 = [dbc.CardBody([\n",
    "            html.H1(\"Highest Sales Platform \", className=\"platform\"),\n",
    "            html.Hr(),\n",
    "            html.H2(df9['Platform'][16]+\": \"+str(df9['Global_Sales'][16])+\" M$\",className=\"platform_card\",\n",
    "                   )])]"
   ]
  },
  {
   "cell_type": "markdown",
   "id": "5b96488f",
   "metadata": {},
   "source": [
    "# Layout"
   ]
  },
  {
   "cell_type": "code",
   "execution_count": 6,
   "id": "71959ab6",
   "metadata": {},
   "outputs": [],
   "source": [
    "app.layout = html.Div([\n",
    "    \n",
    "    dbc.Row(dbc.Col(html.H1(\"Video Games Analytics\",style={'textAlign': 'center','backgroundColor':'#36454F',\n",
    "                                                            'color':'white','border':15,'fontsize':70,'height':60}))),\n",
    "        \n",
    "    dbc.Row([dbc.Col([dbc.Card(card_content1\n",
    "                               ,color=\"#36454F\" ,inverse=True,style={'border-radius':'25px'})], width=4),\n",
    "             \n",
    "             dbc.Col([dbc.Card(card_content2\n",
    "                               ,color=\"#36454F\" ,inverse=True,style={'border-radius':'25px 25px 25px 25px'})], width=4),\n",
    "             \n",
    "             dbc.Col([dbc.Card(card_content3\n",
    "                               ,color=\"#36454F\",inverse=True,style={'border-radius':'25px'})], width=4)],\n",
    "            className=\"mb-4\",style={'margin-left': '10px','margin-right': '10px'}),\n",
    "    \n",
    "    dbc.Row([\n",
    "        \n",
    "    dbc.Col(html.Div(dcc.Graph(figure=px.pie(df2,values= df2['Genre'],labels=df2['index'],names=df2['index'],hole=.6,\n",
    "                    title=\"What genre games have been made the most?\",width=400,\n",
    "                            color_discrete_sequence=px.colors.sequential.Sunset).update_layout(plot_bgcolor=\"#e5ecf6\",paper_bgcolor=\"#e5ecf6\")\n",
    "                              ))),\n",
    "                  \n",
    "    dbc.Col(html.Div(dcc.Graph(figure=px.bar(df3,x= df3['index'],y=df3['Year'],\n",
    "                    title=\"Which Year had the most game release?\").update_layout(plot_bgcolor=\"#e5ecf6\",paper_bgcolor=\"#e5ecf6\")\n",
    "                              )),width=4),\n",
    "                  \n",
    "    dbc.Col(html.Div(dcc.Graph(figure=px.bar(df4,x= df4['index'],y=df4['Platform'],\n",
    "                    title=\"Which platform had the most game release\").update_layout(plot_bgcolor=\"#e5ecf6\",paper_bgcolor=\"#e5ecf6\")\n",
    "                              )),width=4),\n",
    "        dbc.Row(dcc.Dropdown(['Genre_using_Pie','Year_most_release','Platform_release','Top_publishers','Highest_Sales_Genre',\n",
    "              'Highest_Sales_Year','Highest_Sales_Platform','Highest_Sales_Publisher','region_sales_byGenre',\n",
    "              'NA_Sales','EU_Sales','JP_Sales','Other_Sales'],style={'text-align': 'center',\"color\":\"black\"},\n",
    "             id='Dropdown1',placeholder='Please Choose')),\n",
    "    dbc.Row(dcc.Graph(id=\"Graph6\"))\n",
    "    ]),\n",
    "    \n",
    "]\n",
    "            ,style={\"color\":\"black\",'text-align': 'center','backgroundColor':'#e5ecf6'})"
   ]
  },
  {
   "cell_type": "markdown",
   "id": "b277f537",
   "metadata": {},
   "source": [
    "# Ploting the graphs"
   ]
  },
  {
   "cell_type": "code",
   "execution_count": 7,
   "id": "218dbd89",
   "metadata": {},
   "outputs": [],
   "source": [
    "@app.callback(\n",
    "    Output(component_id='Graph6',component_property='figure'),\n",
    "    Input(component_id='Dropdown1',component_property='value'))\n",
    "\n",
    "def New_update(x): \n",
    "    if x==None:\n",
    "        fig1=px.bar(df2,x=df2['index'],y=df2['Genre'],title=\"What genre games have been made the most?\")\n",
    "        \n",
    "    elif x=='Genre_using_Pie':\n",
    "        fig1=px.pie(df2,values= df2['Genre'],labels=df2['index'],names=df2['index'],title=\"What genre games have been made the most?\")\n",
    "        \n",
    "    elif x=='Year_most_release':\n",
    "        fig1=px.bar(df3,x= df3['index'],y=df3['Year'],title=\"Which Year had the most game release?\")\n",
    "        \n",
    "    elif x=='Platform_release':\n",
    "        fig1=px.bar(df4,x= df4['index'],y=df4['Platform'],title=\"Which platform had the most game release?\")\n",
    "        \n",
    "    elif x=='Top_publishers':\n",
    "        fig1=px.bar(df6,x= df6['Publisher'],y=df6['Name'],title=\"What are the top publishers?\")\n",
    "        \n",
    "    elif x=='Highest_Sales_Genre':\n",
    "        fig1=px.pie(df7,values= df7['Global_Sales'],labels=df2['Genre'],names=df7['Genre'],title=\"Which genre have Highest_Sales?\")\n",
    "        fig1.update_traces(rotation=90, pull=[0.12,0.06,0.06,0.06,0.06], textinfo=\"percent+label\")\n",
    "        #fig2=px.bar(x=df7['Genre'],y=df7['Global_Sales'],title=\"What genre games have Highest_Sales?\")\n",
    "        #return fig2\n",
    "        #rotation:is used to start from 12 oclock\n",
    "        \n",
    "    elif x=='Highest_Sales_Year':\n",
    "        fig1=px.bar(x=df8['Year'],y=df8['Global_Sales'],title=\"Which year had the highest sales WORLDWIDE?\")\n",
    "        \n",
    "    elif x=='Highest_Sales_Platform':\n",
    "        fig1=px.bar(x=df9['Platform'],y=df9['Global_Sales'],title=\"What is the highest sales platform WORLDWIDE?\")\n",
    "        \n",
    "    elif x=='Highest_Sales_Publisher':\n",
    "        fig1=px.bar(x=df11['Publisher'],y=df11['Global_Sales'],title=\"Which Publisher had the highest sales WORLDWIDE?\")\n",
    "        \n",
    "    elif x=='region_sales_byGenre':\n",
    "        fig1=px.bar(x=df12['Year'],y=df12['Name'],title=\"Which Year had the most game release?\")\n",
    "        \n",
    "    elif x=='NA_Sales':# in millions\n",
    "        fig1=px.bar(x=df13['Year'],y=df13['NA_Sales'],title=\"What is the highest year sales byGenre in North America?\")\n",
    "        \n",
    "    elif x=='EU_Sales':# in millions\n",
    "        fig1=px.bar(x=df14['Year'],y=df14['EU_Sales'],title=\"What is the highest year sales byGenre in Europe?\") \n",
    "        \n",
    "    elif x=='JP_Sales':#in millions\n",
    "        fig1=px.bar(x=df15['Year'],y=df15['JP_Sales'],title=\"What is the highest year sales byGenre in Japan?\")   \n",
    "        \n",
    "    elif x=='Other_Sales':#in millions\n",
    "        fig1=px.bar(x=df16['Year'],y=df16['Other_Sales'],title=\"What is the highest year sales byGenre in WORLDWIDE?\") \n",
    "        \n",
    "    elif x=='test':\n",
    "        fig1=px.pie(df2,values= df2['Genre'],labels=df2['index'],names=df2['index'],hole=.5,title=\"What genre games have been made the most?\")\n",
    "        \n",
    "    return fig1.update_layout(plot_bgcolor=\"#e5ecf6\",paper_bgcolor=\"#e5ecf6\")\n"
   ]
  },
  {
   "cell_type": "code",
   "execution_count": null,
   "id": "776cfebb",
   "metadata": {},
   "outputs": [
    {
     "name": "stdout",
     "output_type": "stream",
     "text": [
      "Dash is running on http://127.0.0.1:8050/\n",
      "\n",
      " * Serving Flask app \"__main__\" (lazy loading)\n",
      " * Environment: production\n",
      "\u001b[31m   WARNING: This is a development server. Do not use it in a production deployment.\u001b[0m\n",
      "\u001b[2m   Use a production WSGI server instead.\u001b[0m\n",
      " * Debug mode: on\n"
     ]
    }
   ],
   "source": [
    "app.run_server(debug=True, use_reloader=False)"
   ]
  },
  {
   "cell_type": "code",
   "execution_count": null,
   "id": "0174930b",
   "metadata": {},
   "outputs": [],
   "source": []
  },
  {
   "cell_type": "code",
   "execution_count": null,
   "id": "4fb9e2ee",
   "metadata": {},
   "outputs": [],
   "source": []
  }
 ],
 "metadata": {
  "kernelspec": {
   "display_name": "Python 3 (ipykernel)",
   "language": "python",
   "name": "python3"
  },
  "language_info": {
   "codemirror_mode": {
    "name": "ipython",
    "version": 3
   },
   "file_extension": ".py",
   "mimetype": "text/x-python",
   "name": "python",
   "nbconvert_exporter": "python",
   "pygments_lexer": "ipython3",
   "version": "3.9.7"
  }
 },
 "nbformat": 4,
 "nbformat_minor": 5
}
